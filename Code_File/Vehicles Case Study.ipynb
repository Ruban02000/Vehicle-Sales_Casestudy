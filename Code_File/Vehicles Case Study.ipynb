{
 "cells": [
  {
   "cell_type": "markdown",
   "id": "08c770c9",
   "metadata": {},
   "source": [
    "## Vehicle Case Study"
   ]
  },
  {
   "cell_type": "markdown",
   "id": "4f401919",
   "metadata": {},
   "source": [
    "---"
   ]
  },
  {
   "cell_type": "code",
   "execution_count": 16,
   "id": "253d00cb",
   "metadata": {},
   "outputs": [],
   "source": [
    "# importing libraries\n",
    "\n",
    "import numpy as np\n",
    "import pandas as pd\n",
    "import matplotlib.pyplot as plt\n",
    "import seaborn as sns"
   ]
  },
  {
   "cell_type": "code",
   "execution_count": 2,
   "id": "8d0bc816",
   "metadata": {},
   "outputs": [
    {
     "data": {
      "text/html": [
       "<div>\n",
       "<style scoped>\n",
       "    .dataframe tbody tr th:only-of-type {\n",
       "        vertical-align: middle;\n",
       "    }\n",
       "\n",
       "    .dataframe tbody tr th {\n",
       "        vertical-align: top;\n",
       "    }\n",
       "\n",
       "    .dataframe thead th {\n",
       "        text-align: right;\n",
       "    }\n",
       "</style>\n",
       "<table border=\"1\" class=\"dataframe\">\n",
       "  <thead>\n",
       "    <tr style=\"text-align: right;\">\n",
       "      <th></th>\n",
       "      <th>Vehicle Full Code</th>\n",
       "      <th>Vehicle Code</th>\n",
       "      <th>OEM Model Name</th>\n",
       "      <th>SIAM Company Code</th>\n",
       "      <th>SIAM Segment 1</th>\n",
       "      <th>SIAM Segment 2</th>\n",
       "      <th>SIAM Fuel</th>\n",
       "      <th>Month</th>\n",
       "      <th>Year</th>\n",
       "      <th>Production Qty</th>\n",
       "      <th>Domestic Sale</th>\n",
       "      <th>Export Sale</th>\n",
       "      <th>Category</th>\n",
       "      <th>Category Name</th>\n",
       "      <th>YrMth</th>\n",
       "    </tr>\n",
       "  </thead>\n",
       "  <tbody>\n",
       "    <tr>\n",
       "      <th>0</th>\n",
       "      <td>HMPVF2U4DI</td>\n",
       "      <td>PV</td>\n",
       "      <td>PAJRO SFX</td>\n",
       "      <td>HINDUSTAN MOTORS LTD</td>\n",
       "      <td>SUV</td>\n",
       "      <td>UV4:</td>\n",
       "      <td>DIESEL</td>\n",
       "      <td>NOV</td>\n",
       "      <td>2012</td>\n",
       "      <td>0</td>\n",
       "      <td>0</td>\n",
       "      <td>0</td>\n",
       "      <td>PVUV</td>\n",
       "      <td>Utility vehicles PV</td>\n",
       "      <td>01-11-2012</td>\n",
       "    </tr>\n",
       "    <tr>\n",
       "      <th>1</th>\n",
       "      <td>HMORF2U4DI</td>\n",
       "      <td>OR</td>\n",
       "      <td>OUTLANDER</td>\n",
       "      <td>HINDUSTAN MOTORS LTD</td>\n",
       "      <td>SUV</td>\n",
       "      <td>UV4:</td>\n",
       "      <td>DIESEL</td>\n",
       "      <td>NOV</td>\n",
       "      <td>2012</td>\n",
       "      <td>0</td>\n",
       "      <td>0</td>\n",
       "      <td>0</td>\n",
       "      <td>PVUV</td>\n",
       "      <td>Utility vehicles PV</td>\n",
       "      <td>01-11-2012</td>\n",
       "    </tr>\n",
       "    <tr>\n",
       "      <th>2</th>\n",
       "      <td>SKOAP3EEDI</td>\n",
       "      <td>OA</td>\n",
       "      <td>Octavia</td>\n",
       "      <td>SKODAAUTO INDIA PVT LTD</td>\n",
       "      <td>Premium Car 3</td>\n",
       "      <td>Executive</td>\n",
       "      <td>DIESEL</td>\n",
       "      <td>NOV</td>\n",
       "      <td>2012</td>\n",
       "      <td>0</td>\n",
       "      <td>0</td>\n",
       "      <td>0</td>\n",
       "      <td>PVPC</td>\n",
       "      <td>Passenger car PV</td>\n",
       "      <td>01-11-2012</td>\n",
       "    </tr>\n",
       "    <tr>\n",
       "      <th>3</th>\n",
       "      <td>HMORF2U4PT</td>\n",
       "      <td>OR</td>\n",
       "      <td>OUTLANDER</td>\n",
       "      <td>HINDUSTAN MOTORS LTD</td>\n",
       "      <td>SUV</td>\n",
       "      <td>UV4:</td>\n",
       "      <td>PETROL</td>\n",
       "      <td>NOV</td>\n",
       "      <td>2012</td>\n",
       "      <td>0</td>\n",
       "      <td>6</td>\n",
       "      <td>0</td>\n",
       "      <td>PVUV</td>\n",
       "      <td>Utility vehicles PV</td>\n",
       "      <td>01-11-2012</td>\n",
       "    </tr>\n",
       "    <tr>\n",
       "      <th>4</th>\n",
       "      <td>FMTXF1U3PT</td>\n",
       "      <td>TX</td>\n",
       "      <td>Trax</td>\n",
       "      <td>FORCE MOTORS LTD</td>\n",
       "      <td>MPV</td>\n",
       "      <td>UV3</td>\n",
       "      <td>PETROL</td>\n",
       "      <td>MAY</td>\n",
       "      <td>2012</td>\n",
       "      <td>0</td>\n",
       "      <td>0</td>\n",
       "      <td>0</td>\n",
       "      <td>PVUV</td>\n",
       "      <td>Utility vehicles PV</td>\n",
       "      <td>01-05-2012</td>\n",
       "    </tr>\n",
       "  </tbody>\n",
       "</table>\n",
       "</div>"
      ],
      "text/plain": [
       "  Vehicle Full Code Vehicle Code OEM Model Name        SIAM Company Code  \\\n",
       "0        HMPVF2U4DI           PV      PAJRO SFX     HINDUSTAN MOTORS LTD   \n",
       "1        HMORF2U4DI           OR      OUTLANDER     HINDUSTAN MOTORS LTD   \n",
       "2        SKOAP3EEDI           OA        Octavia  SKODAAUTO INDIA PVT LTD   \n",
       "3        HMORF2U4PT           OR      OUTLANDER     HINDUSTAN MOTORS LTD   \n",
       "4        FMTXF1U3PT           TX           Trax         FORCE MOTORS LTD   \n",
       "\n",
       "  SIAM Segment 1 SIAM Segment 2 SIAM Fuel Month  Year  Production Qty  \\\n",
       "0            SUV           UV4:    DIESEL   NOV  2012               0   \n",
       "1            SUV           UV4:    DIESEL   NOV  2012               0   \n",
       "2  Premium Car 3      Executive    DIESEL   NOV  2012               0   \n",
       "3            SUV           UV4:    PETROL   NOV  2012               0   \n",
       "4            MPV            UV3    PETROL   MAY  2012               0   \n",
       "\n",
       "   Domestic Sale  Export Sale Category        Category Name       YrMth  \n",
       "0              0            0     PVUV  Utility vehicles PV  01-11-2012  \n",
       "1              0            0     PVUV  Utility vehicles PV  01-11-2012  \n",
       "2              0            0     PVPC     Passenger car PV  01-11-2012  \n",
       "3              6            0     PVUV  Utility vehicles PV  01-11-2012  \n",
       "4              0            0     PVUV  Utility vehicles PV  01-05-2012  "
      ]
     },
     "execution_count": 2,
     "metadata": {},
     "output_type": "execute_result"
    }
   ],
   "source": [
    "# importing and viewing data\n",
    "\n",
    "db = pd.read_excel(\"Vehicle Sales Data.xlsx\")\n",
    "\n",
    "db.head()"
   ]
  },
  {
   "cell_type": "markdown",
   "id": "10c8912a",
   "metadata": {},
   "source": [
    "---"
   ]
  },
  {
   "cell_type": "markdown",
   "id": "8696e996",
   "metadata": {},
   "source": [
    "## Data Cleaning"
   ]
  },
  {
   "cell_type": "code",
   "execution_count": 3,
   "id": "bc4009e7",
   "metadata": {},
   "outputs": [
    {
     "name": "stdout",
     "output_type": "stream",
     "text": [
      "<class 'pandas.core.frame.DataFrame'>\n",
      "RangeIndex: 19666 entries, 0 to 19665\n",
      "Data columns (total 15 columns):\n",
      " #   Column             Non-Null Count  Dtype \n",
      "---  ------             --------------  ----- \n",
      " 0   Vehicle Full Code  19666 non-null  object\n",
      " 1   Vehicle Code       19666 non-null  object\n",
      " 2   OEM Model Name     19666 non-null  object\n",
      " 3   SIAM Company Code  19666 non-null  object\n",
      " 4   SIAM Segment 1     19654 non-null  object\n",
      " 5   SIAM Segment 2     19666 non-null  object\n",
      " 6   SIAM Fuel          19648 non-null  object\n",
      " 7   Month              19666 non-null  object\n",
      " 8   Year               19666 non-null  int64 \n",
      " 9   Production Qty     19666 non-null  int64 \n",
      " 10  Domestic Sale      19666 non-null  int64 \n",
      " 11  Export Sale        19666 non-null  int64 \n",
      " 12  Category           18569 non-null  object\n",
      " 13  Category Name      18569 non-null  object\n",
      " 14  YrMth              19666 non-null  object\n",
      "dtypes: int64(4), object(11)\n",
      "memory usage: 2.3+ MB\n"
     ]
    }
   ],
   "source": [
    "#Checking for data types and general information\n",
    "\n",
    "db.info()\n",
    "\n",
    "# upon checking there are some missing values in the columns (SIAM Segment 1,  SIAM Fuel, Category and Category Name)"
   ]
  },
  {
   "cell_type": "code",
   "execution_count": 6,
   "id": "30b1a272",
   "metadata": {},
   "outputs": [],
   "source": [
    "#removing null values\n",
    "\n",
    "# Since there are only a few missing values dropping the missing value columns\n",
    "\n",
    "db = db.dropna()"
   ]
  },
  {
   "cell_type": "code",
   "execution_count": 7,
   "id": "e04335d3",
   "metadata": {},
   "outputs": [
    {
     "name": "stdout",
     "output_type": "stream",
     "text": [
      "<class 'pandas.core.frame.DataFrame'>\n",
      "Int64Index: 18539 entries, 0 to 19665\n",
      "Data columns (total 15 columns):\n",
      " #   Column             Non-Null Count  Dtype \n",
      "---  ------             --------------  ----- \n",
      " 0   Vehicle Full Code  18539 non-null  object\n",
      " 1   Vehicle Code       18539 non-null  object\n",
      " 2   OEM Model Name     18539 non-null  object\n",
      " 3   SIAM Company Code  18539 non-null  object\n",
      " 4   SIAM Segment 1     18539 non-null  object\n",
      " 5   SIAM Segment 2     18539 non-null  object\n",
      " 6   SIAM Fuel          18539 non-null  object\n",
      " 7   Month              18539 non-null  object\n",
      " 8   Year               18539 non-null  int64 \n",
      " 9   Production Qty     18539 non-null  int64 \n",
      " 10  Domestic Sale      18539 non-null  int64 \n",
      " 11  Export Sale        18539 non-null  int64 \n",
      " 12  Category           18539 non-null  object\n",
      " 13  Category Name      18539 non-null  object\n",
      " 14  YrMth              18539 non-null  object\n",
      "dtypes: int64(4), object(11)\n",
      "memory usage: 2.3+ MB\n"
     ]
    }
   ],
   "source": [
    "# Verifing wheather the null values are removed\n",
    "\n",
    "db.info()"
   ]
  },
  {
   "cell_type": "code",
   "execution_count": 8,
   "id": "4c3e1571",
   "metadata": {},
   "outputs": [
    {
     "name": "stdout",
     "output_type": "stream",
     "text": [
      "<class 'pandas.core.frame.DataFrame'>\n",
      "Int64Index: 18539 entries, 0 to 19665\n",
      "Data columns (total 15 columns):\n",
      " #   Column             Non-Null Count  Dtype \n",
      "---  ------             --------------  ----- \n",
      " 0   Vehicle Full Code  18539 non-null  object\n",
      " 1   Vehicle Code       18539 non-null  object\n",
      " 2   OEM Model Name     18539 non-null  object\n",
      " 3   SIAM Company Code  18539 non-null  object\n",
      " 4   SIAM Segment 1     18539 non-null  object\n",
      " 5   SIAM Segment 2     18539 non-null  object\n",
      " 6   SIAM Fuel          18539 non-null  object\n",
      " 7   Month              18539 non-null  object\n",
      " 8   Year               18539 non-null  int64 \n",
      " 9   Production Qty     18539 non-null  int64 \n",
      " 10  Domestic Sale      18539 non-null  int64 \n",
      " 11  Export Sale        18539 non-null  int64 \n",
      " 12  Category           18539 non-null  object\n",
      " 13  Category Name      18539 non-null  object\n",
      " 14  YrMth              18539 non-null  object\n",
      "dtypes: int64(4), object(11)\n",
      "memory usage: 2.3+ MB\n"
     ]
    }
   ],
   "source": [
    "#removing duplicates and checking the data\n",
    "\n",
    "db = db.drop_duplicates()\n",
    "\n",
    "db.info()"
   ]
  },
  {
   "cell_type": "markdown",
   "id": "48022cf9",
   "metadata": {},
   "source": [
    "---"
   ]
  },
  {
   "cell_type": "markdown",
   "id": "9086f970",
   "metadata": {},
   "source": [
    "## General Data analysis and Statistical analysis "
   ]
  },
  {
   "cell_type": "code",
   "execution_count": 9,
   "id": "358f806e",
   "metadata": {},
   "outputs": [
    {
     "data": {
      "text/html": [
       "<div>\n",
       "<style scoped>\n",
       "    .dataframe tbody tr th:only-of-type {\n",
       "        vertical-align: middle;\n",
       "    }\n",
       "\n",
       "    .dataframe tbody tr th {\n",
       "        vertical-align: top;\n",
       "    }\n",
       "\n",
       "    .dataframe thead th {\n",
       "        text-align: right;\n",
       "    }\n",
       "</style>\n",
       "<table border=\"1\" class=\"dataframe\">\n",
       "  <thead>\n",
       "    <tr style=\"text-align: right;\">\n",
       "      <th></th>\n",
       "      <th>Year</th>\n",
       "      <th>Production Qty</th>\n",
       "      <th>Domestic Sale</th>\n",
       "      <th>Export Sale</th>\n",
       "    </tr>\n",
       "  </thead>\n",
       "  <tbody>\n",
       "    <tr>\n",
       "      <th>count</th>\n",
       "      <td>18539.000000</td>\n",
       "      <td>18539.000000</td>\n",
       "      <td>18539.000000</td>\n",
       "      <td>18539.000000</td>\n",
       "    </tr>\n",
       "    <tr>\n",
       "      <th>mean</th>\n",
       "      <td>2015.085442</td>\n",
       "      <td>1289.979772</td>\n",
       "      <td>1148.673014</td>\n",
       "      <td>248.837801</td>\n",
       "    </tr>\n",
       "    <tr>\n",
       "      <th>std</th>\n",
       "      <td>2.228948</td>\n",
       "      <td>3024.120852</td>\n",
       "      <td>2728.535161</td>\n",
       "      <td>987.429749</td>\n",
       "    </tr>\n",
       "    <tr>\n",
       "      <th>min</th>\n",
       "      <td>2012.000000</td>\n",
       "      <td>-17.000000</td>\n",
       "      <td>-128.000000</td>\n",
       "      <td>0.000000</td>\n",
       "    </tr>\n",
       "    <tr>\n",
       "      <th>25%</th>\n",
       "      <td>2013.000000</td>\n",
       "      <td>0.000000</td>\n",
       "      <td>0.000000</td>\n",
       "      <td>0.000000</td>\n",
       "    </tr>\n",
       "    <tr>\n",
       "      <th>50%</th>\n",
       "      <td>2015.000000</td>\n",
       "      <td>28.000000</td>\n",
       "      <td>72.000000</td>\n",
       "      <td>0.000000</td>\n",
       "    </tr>\n",
       "    <tr>\n",
       "      <th>75%</th>\n",
       "      <td>2017.000000</td>\n",
       "      <td>929.500000</td>\n",
       "      <td>853.500000</td>\n",
       "      <td>1.000000</td>\n",
       "    </tr>\n",
       "    <tr>\n",
       "      <th>max</th>\n",
       "      <td>2019.000000</td>\n",
       "      <td>33128.000000</td>\n",
       "      <td>30499.000000</td>\n",
       "      <td>15088.000000</td>\n",
       "    </tr>\n",
       "  </tbody>\n",
       "</table>\n",
       "</div>"
      ],
      "text/plain": [
       "               Year  Production Qty  Domestic Sale   Export Sale\n",
       "count  18539.000000    18539.000000   18539.000000  18539.000000\n",
       "mean    2015.085442     1289.979772    1148.673014    248.837801\n",
       "std        2.228948     3024.120852    2728.535161    987.429749\n",
       "min     2012.000000      -17.000000    -128.000000      0.000000\n",
       "25%     2013.000000        0.000000       0.000000      0.000000\n",
       "50%     2015.000000       28.000000      72.000000      0.000000\n",
       "75%     2017.000000      929.500000     853.500000      1.000000\n",
       "max     2019.000000    33128.000000   30499.000000  15088.000000"
      ]
     },
     "execution_count": 9,
     "metadata": {},
     "output_type": "execute_result"
    }
   ],
   "source": [
    "db.describe()"
   ]
  },
  {
   "cell_type": "code",
   "execution_count": 10,
   "id": "e041b964",
   "metadata": {},
   "outputs": [
    {
     "data": {
      "text/html": [
       "<div>\n",
       "<style scoped>\n",
       "    .dataframe tbody tr th:only-of-type {\n",
       "        vertical-align: middle;\n",
       "    }\n",
       "\n",
       "    .dataframe tbody tr th {\n",
       "        vertical-align: top;\n",
       "    }\n",
       "\n",
       "    .dataframe thead th {\n",
       "        text-align: right;\n",
       "    }\n",
       "</style>\n",
       "<table border=\"1\" class=\"dataframe\">\n",
       "  <thead>\n",
       "    <tr style=\"text-align: right;\">\n",
       "      <th></th>\n",
       "      <th>Vehicle Full Code</th>\n",
       "      <th>Vehicle Code</th>\n",
       "      <th>OEM Model Name</th>\n",
       "      <th>SIAM Company Code</th>\n",
       "      <th>SIAM Segment 1</th>\n",
       "      <th>SIAM Segment 2</th>\n",
       "      <th>SIAM Fuel</th>\n",
       "      <th>Month</th>\n",
       "      <th>Category</th>\n",
       "      <th>Category Name</th>\n",
       "      <th>YrMth</th>\n",
       "    </tr>\n",
       "  </thead>\n",
       "  <tbody>\n",
       "    <tr>\n",
       "      <th>count</th>\n",
       "      <td>18539</td>\n",
       "      <td>18539</td>\n",
       "      <td>18539</td>\n",
       "      <td>18539</td>\n",
       "      <td>18539</td>\n",
       "      <td>18539</td>\n",
       "      <td>18539</td>\n",
       "      <td>18539</td>\n",
       "      <td>18539</td>\n",
       "      <td>18539</td>\n",
       "      <td>18539</td>\n",
       "    </tr>\n",
       "    <tr>\n",
       "      <th>unique</th>\n",
       "      <td>394</td>\n",
       "      <td>168</td>\n",
       "      <td>172</td>\n",
       "      <td>20</td>\n",
       "      <td>12</td>\n",
       "      <td>15</td>\n",
       "      <td>5</td>\n",
       "      <td>12</td>\n",
       "      <td>3</td>\n",
       "      <td>3</td>\n",
       "      <td>93</td>\n",
       "    </tr>\n",
       "    <tr>\n",
       "      <th>top</th>\n",
       "      <td>HCCTCCMSDI</td>\n",
       "      <td>IC</td>\n",
       "      <td>Indigo CS</td>\n",
       "      <td>MARUTI SUZUKI INDIA LTD</td>\n",
       "      <td>MPV</td>\n",
       "      <td>Compact:</td>\n",
       "      <td>DIESEL</td>\n",
       "      <td>NOV</td>\n",
       "      <td>PVPC</td>\n",
       "      <td>Passenger car PV</td>\n",
       "      <td>01-05-2013</td>\n",
       "    </tr>\n",
       "    <tr>\n",
       "      <th>freq</th>\n",
       "      <td>93</td>\n",
       "      <td>272</td>\n",
       "      <td>260</td>\n",
       "      <td>2578</td>\n",
       "      <td>3416</td>\n",
       "      <td>5162</td>\n",
       "      <td>9130</td>\n",
       "      <td>1625</td>\n",
       "      <td>11700</td>\n",
       "      <td>11700</td>\n",
       "      <td>344</td>\n",
       "    </tr>\n",
       "  </tbody>\n",
       "</table>\n",
       "</div>"
      ],
      "text/plain": [
       "       Vehicle Full Code Vehicle Code OEM Model Name        SIAM Company Code  \\\n",
       "count              18539        18539          18539                    18539   \n",
       "unique               394          168            172                       20   \n",
       "top           HCCTCCMSDI           IC      Indigo CS  MARUTI SUZUKI INDIA LTD   \n",
       "freq                  93          272            260                     2578   \n",
       "\n",
       "       SIAM Segment 1 SIAM Segment 2 SIAM Fuel  Month Category  \\\n",
       "count           18539          18539     18539  18539    18539   \n",
       "unique             12             15         5     12        3   \n",
       "top               MPV       Compact:    DIESEL    NOV     PVPC   \n",
       "freq             3416           5162      9130   1625    11700   \n",
       "\n",
       "           Category Name       YrMth  \n",
       "count              18539       18539  \n",
       "unique                 3          93  \n",
       "top     Passenger car PV  01-05-2013  \n",
       "freq               11700         344  "
      ]
     },
     "execution_count": 10,
     "metadata": {},
     "output_type": "execute_result"
    }
   ],
   "source": [
    "#checking the statistical data of object data types\n",
    "\n",
    "db.describe(include='object')\n",
    "\n",
    "# from the basic analysis we found the folling details:\n",
    "\n",
    "# The Top selling model name is \"Indigo CS\" which appears \"260\" times.\n",
    "\n",
    "# The top selling company is \"MARUTI SUZUKI INDIA LTD\" which appears \"2578\" times."
   ]
  },
  {
   "cell_type": "code",
   "execution_count": 17,
   "id": "f042c195",
   "metadata": {},
   "outputs": [],
   "source": [
    "#Upon checking the data there were two types of sales which profits the company. so splitting the data analysis part for Domestic and Export."
   ]
  },
  {
   "cell_type": "markdown",
   "id": "9e453915",
   "metadata": {},
   "source": [
    "---"
   ]
  },
  {
   "cell_type": "markdown",
   "id": "8bb74677",
   "metadata": {},
   "source": [
    "## Domestic sales"
   ]
  },
  {
   "cell_type": "code",
   "execution_count": 14,
   "id": "5624f036",
   "metadata": {},
   "outputs": [
    {
     "data": {
      "image/png": "[encoded data removed]",
      "text/plain": [
       "<Figure size 720x720 with 1 Axes>"
      ]
     },
     "metadata": {
      "needs_background": "light"
     },
     "output_type": "display_data"
    }
   ],
   "source": [
    "#Identifying companies with high domestic sales.\n",
    "\n",
    "plt.figure(figsize=(10,10))\n",
    "plt.barh(db[\"SIAM Company Code\"], db[\"Domestic Sale\"])\n",
    "plt.show()\n",
    "\n",
    "#Insights:\n",
    "\n",
    "# Upon checking the best selling models in domestic sales are (\"Maruti Suzuki India, Hyundai, Mahindara & Mahindara, Renault, Toyota and Tata Motors\")"
   ]
  },
  {
   "cell_type": "code",
   "execution_count": 18,
   "id": "f1294bba",
   "metadata": {},
   "outputs": [
    {
     "data": {
      "image/png": "[encoded data removed]",
      "text/plain": [
       "<Figure size 432x288 with 1 Axes>"
      ]
     },
     "metadata": {
      "needs_background": "light"
     },
     "output_type": "display_data"
    }
   ],
   "source": [
    "#Fuel type\n",
    "\n",
    "plt.bar(db[\"SIAM Fuel\"], db[\"Domestic Sale\"])\n",
    "plt.show()\n",
    "\n",
    "#Insights:\n",
    "\n",
    "#The most purchased domestic models are mostly Petrol and Diesel vehicles."
   ]
  },
  {
   "cell_type": "code",
   "execution_count": 21,
   "id": "f9af75f3",
   "metadata": {},
   "outputs": [
    {
     "data": {
      "image/png": "[encoded data removed]",
      "text/plain": [
       "<Figure size 720x720 with 1 Axes>"
      ]
     },
     "metadata": {
      "needs_background": "light"
     },
     "output_type": "display_data"
    }
   ],
   "source": [
    "#Sales by segment 1\n",
    "\n",
    "plt.figure(figsize=(10,10))\n",
    "plt.barh(db[\"SIAM Segment 1\"], db[\"Domestic Sale\"])\n",
    "plt.show()\n",
    "\n",
    "#insights:\n",
    "\n",
    "# The best selling segment 1 vehicles are: B, B+, C, MPV and SUV"
   ]
  },
  {
   "cell_type": "code",
   "execution_count": 22,
   "id": "56a30951",
   "metadata": {},
   "outputs": [
    {
     "data": {
      "image/png": "[encoded data removed]",
      "text/plain": [
       "<Figure size 720x720 with 1 Axes>"
      ]
     },
     "metadata": {
      "needs_background": "light"
     },
     "output_type": "display_data"
    }
   ],
   "source": [
    "#Sales by segment 2\n",
    "\n",
    "plt.figure(figsize=(10,10))\n",
    "plt.barh(db[\"SIAM Segment 2\"], db[\"Domestic Sale\"])\n",
    "plt.show()\n",
    "\n",
    "#Insights:\n",
    "\n",
    "# The best selling segment 2 vehicles are: Mini, Super compact, UV1, V1, Compact"
   ]
  },
  {
   "cell_type": "code",
   "execution_count": 23,
   "id": "49f8b61f",
   "metadata": {},
   "outputs": [
    {
     "data": {
      "image/png": "[encoded data removed]",
      "text/plain": [
       "<Figure size 432x288 with 1 Axes>"
      ]
     },
     "metadata": {
      "needs_background": "light"
     },
     "output_type": "display_data"
    }
   ],
   "source": [
    "#Best selling category:\n",
    "\n",
    "plt.bar(db[\"Category Name\"], db[\"Domestic Sale\"])\n",
    "plt.show()\n",
    "\n",
    "#Insights:\n",
    "\n",
    "# The best selling category is Passenger car PV"
   ]
  },
  {
   "cell_type": "markdown",
   "id": "a145a734",
   "metadata": {},
   "source": [
    "---"
   ]
  },
  {
   "cell_type": "markdown",
   "id": "e5572c50",
   "metadata": {},
   "source": [
    "## Export vehicles"
   ]
  },
  {
   "cell_type": "code",
   "execution_count": 15,
   "id": "0c88faa3",
   "metadata": {},
   "outputs": [
    {
     "data": {
      "image/png": "[encoded data removed]",
      "text/plain": [
       "<Figure size 720x720 with 1 Axes>"
      ]
     },
     "metadata": {
      "needs_background": "light"
     },
     "output_type": "display_data"
    }
   ],
   "source": [
    "# Identifying companies with high export sales\n",
    "\n",
    "plt.figure(figsize=(10,10))\n",
    "plt.barh(db[\"SIAM Company Code\"], db[\"Export Sale\"])\n",
    "plt.show()\n",
    "\n",
    "#Insights:\n",
    "\n",
    "#The companies with High export sales are (Hyundai, Nissan, Ford, Volkswagen, Maruthi Suzuki and General Motors)"
   ]
  },
  {
   "cell_type": "code",
   "execution_count": 24,
   "id": "8a2782c6",
   "metadata": {},
   "outputs": [
    {
     "data": {
      "image/png": "[encoded data removed]",
      "text/plain": [
       "<Figure size 432x288 with 1 Axes>"
      ]
     },
     "metadata": {
      "needs_background": "light"
     },
     "output_type": "display_data"
    }
   ],
   "source": [
    "#Fuel type\n",
    "\n",
    "plt.bar(db[\"SIAM Fuel\"], db[\"Export Sale\"])\n",
    "plt.show()\n",
    "\n",
    "# The Best selling Fuel type is Petrol Vehicles"
   ]
  },
  {
   "cell_type": "code",
   "execution_count": 25,
   "id": "60dd6238",
   "metadata": {},
   "outputs": [
    {
     "data": {
      "image/png": "[encoded data removed]",
      "text/plain": [
       "<Figure size 720x720 with 1 Axes>"
      ]
     },
     "metadata": {
      "needs_background": "light"
     },
     "output_type": "display_data"
    }
   ],
   "source": [
    "#Sales by segment 1\n",
    "\n",
    "plt.figure(figsize=(10,10))\n",
    "plt.barh(db[\"SIAM Segment 1\"], db[\"Export Sale\"])\n",
    "plt.show()\n",
    "\n",
    "# The Best selling Segment 1 are: B, B+, Suv, C+ and C"
   ]
  },
  {
   "cell_type": "code",
   "execution_count": 26,
   "id": "7237324b",
   "metadata": {},
   "outputs": [
    {
     "data": {
      "image/png": "[encoded data removed]",
      "text/plain": [
       "<Figure size 720x720 with 1 Axes>"
      ]
     },
     "metadata": {
      "needs_background": "light"
     },
     "output_type": "display_data"
    }
   ],
   "source": [
    "#Sales by segment 2\n",
    "\n",
    "plt.figure(figsize=(10,10))\n",
    "plt.barh(db[\"SIAM Segment 2\"], db[\"Export Sale\"])\n",
    "plt.show()\n",
    "\n",
    "# The best selling segment 2 are: Compact, UV1, Mini, Mid-Size and Super Compact"
   ]
  },
  {
   "cell_type": "code",
   "execution_count": 27,
   "id": "77181705",
   "metadata": {},
   "outputs": [
    {
     "data": {
      "image/png": "[encoded data removed]",
      "text/plain": [
       "<Figure size 432x288 with 1 Axes>"
      ]
     },
     "metadata": {
      "needs_background": "light"
     },
     "output_type": "display_data"
    }
   ],
   "source": [
    "#Best selling category:\n",
    "\n",
    "plt.bar(db[\"Category Name\"], db[\"Export Sale\"])\n",
    "plt.show()\n",
    "\n",
    "# The best selling categories are: Passenger car PV and Utility vehicles PV"
   ]
  },
  {
   "cell_type": "markdown",
   "id": "3c3721d5",
   "metadata": {},
   "source": [
    "----"
   ]
  },
  {
   "cell_type": "markdown",
   "id": "4309f21b",
   "metadata": {},
   "source": [
    "## Exporting the data as csv for better visualizations using PowerBI and Tableau."
   ]
  },
  {
   "cell_type": "code",
   "execution_count": 35,
   "id": "7bb67985",
   "metadata": {},
   "outputs": [],
   "source": [
    "db.to_csv('cleaned_Vehicles.csv')"
   ]
  },
  {
   "cell_type": "markdown",
   "id": "6f51e730",
   "metadata": {},
   "source": [
    "---"
   ]
  }
 ],
 "metadata": {
  "kernelspec": {
   "display_name": "Python 3 (ipykernel)",
   "language": "python",
   "name": "python3"
  },
  "language_info": {
   "codemirror_mode": {
    "name": "ipython",
    "version": 3
   },
   "file_extension": ".py",
   "mimetype": "text/x-python",
   "name": "python",
   "nbconvert_exporter": "python",
   "pygments_lexer": "ipython3",
   "version": "3.9.7"
  }
 },
 "nbformat": 4,
 "nbformat_minor": 5
}
